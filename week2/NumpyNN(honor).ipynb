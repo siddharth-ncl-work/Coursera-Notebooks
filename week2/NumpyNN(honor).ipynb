{
  "nbformat": 4,
  "nbformat_minor": 0,
  "metadata": {
    "colab": {
      "name": "coursera_deep_learning_week_2(NumpyNN (honor)).ipynb",
      "provenance": [],
      "collapsed_sections": []
    },
    "kernelspec": {
      "name": "python3",
      "display_name": "Python 3"
    }
  },
  "cells": [
    {
      "cell_type": "code",
      "metadata": {
        "id": "L00hZSY9fo-b",
        "colab_type": "code",
        "colab": {}
      },
      "source": [
        "%config IPCompleter.greedy=True"
      ],
      "execution_count": 0,
      "outputs": []
    },
    {
      "cell_type": "code",
      "metadata": {
        "id": "90bTbLBBlCc_",
        "colab_type": "code",
        "colab": {}
      },
      "source": [
        "import numpy as np\n",
        "np.random.seed(42)"
      ],
      "execution_count": 0,
      "outputs": []
    },
    {
      "cell_type": "code",
      "metadata": {
        "id": "gBYoK-yzBBx6",
        "colab_type": "code",
        "colab": {}
      },
      "source": [
        "class Layer:\n",
        "\n",
        "  def __init__(self):\n",
        "    pass\n",
        "  \n",
        "  def forward(sefl,input):\n",
        "    return input\n",
        "\n",
        "  def backward(self,input,grad_output):\n",
        "    num_units=input.shape[1]\n",
        "    d_layer_d_input=np.eye(num_units)\n",
        "    return np.dot(grad_output,d_layer_d_input)"
      ],
      "execution_count": 0,
      "outputs": []
    },
    {
      "cell_type": "code",
      "metadata": {
        "id": "Nn2_wakFdXGS",
        "colab_type": "code",
        "colab": {}
      },
      "source": [
        "class ReLU(Layer):\n",
        "\n",
        "  def __init__(self):\n",
        "    pass\n",
        "\n",
        "  def forward(self,input):\n",
        "    return np.maximum(input,np.zeros((input.shape)))\n",
        "\n",
        "  def backward(self,input,grad_output):\n",
        "    relu_grad=input>0\n",
        "    return grad_output*relu_grad\n",
        "    "
      ],
      "execution_count": 0,
      "outputs": []
    },
    {
      "cell_type": "code",
      "metadata": {
        "id": "TFK-_aEwVCJv",
        "colab_type": "code",
        "colab": {}
      },
      "source": [
        "def eval_numerical_gradient(f,x,verbose=False,h=0.00001):\n",
        "  fx=f(x)\n",
        "  grad=np.zeros_like(x)\n",
        "  it=np.nditer(x,flags=['multi_index'],op_flags=['readwrite'])\n",
        "  while not it.finished:\n",
        "    ix=it.multi_index\n",
        "    oldval=x[ix]\n",
        "    x[ix]=oldval+h\n",
        "    fxph=f(x)\n",
        "    x[ix]=oldval-h\n",
        "    fxmh=f(x)\n",
        "    x[ix]=oldval\n",
        "    grad[ix]=(fxph-fxmh)/(2*h)\n",
        "    \n",
        "    if verbose:\n",
        "      print(ix,grad[ix])\n",
        "    it.iternext()\n",
        "  return grad"
      ],
      "execution_count": 0,
      "outputs": []
    },
    {
      "cell_type": "code",
      "metadata": {
        "id": "jBPUE6UMa5zj",
        "colab_type": "code",
        "colab": {}
      },
      "source": [
        "x=np.linspace(-1,1,10*32).reshape([10,32])\n",
        "l=ReLU()\n",
        "grads=l.backward(x,np.ones([10,32])/(32*10))\n",
        "numeric_grads=eval_numerical_gradient(lambda x:l.forward(x).mean(),\n",
        "                                      x=x)\n",
        "assert np.allclose(grads,numeric_grads,rtol=1e-3,atol=0),\\\n",
        "'gradient returned by your layer does not match the numerically \\\n",
        "computed gradient'"
      ],
      "execution_count": 0,
      "outputs": []
    },
    {
      "cell_type": "code",
      "metadata": {
        "id": "H5RonOQQqpAl",
        "colab_type": "code",
        "colab": {
          "base_uri": "https://localhost:8080/",
          "height": 35
        },
        "outputId": "fbb28af4-e372-4981-9669-d8952386ff1c"
      },
      "source": [
        "np.ones((3,5)).dot(np.ones(5))"
      ],
      "execution_count": 7,
      "outputs": [
        {
          "output_type": "execute_result",
          "data": {
            "text/plain": [
              "array([5., 5., 5.])"
            ]
          },
          "metadata": {
            "tags": []
          },
          "execution_count": 7
        }
      ]
    },
    {
      "cell_type": "code",
      "metadata": {
        "id": "0JNufs6Er43X",
        "colab_type": "code",
        "colab": {}
      },
      "source": [
        "class Dense(Layer):\n",
        "\n",
        "  def __init__(self,input_units,output_units,learning_rate=0.1,initialization='random'):\n",
        "    self.learning_rate=learning_rate\n",
        "    if initialization=='random':\n",
        "      self.weights=np.random.randn(input_units,output_units)*0.01\n",
        "    elif initialization=='xavier':\n",
        "      self.weights=np.random.normal(loc=0,scale=np.sqrt(1./input_units),\n",
        "                                    size=(input_units,output_units))\n",
        "    self.biases=np.zeros(output_units)\n",
        "\n",
        "  def forward(self,input):\n",
        "    return np.dot(input,self.weights)+self.biases\n",
        "\n",
        "  def backward(self,input,grad_output):\n",
        "    grad_input=grad_output.dot(self.weights.T)\n",
        "    grad_weights=input.T.dot(grad_output)\n",
        "    grad_biases=grad_output.sum(0)\n",
        "    assert grad_weights.shape==self.weights.shape\n",
        "    assert grad_biases.shape==self.biases.shape\n",
        "\n",
        "    self.weights=self.weights-self.learning_rate*grad_weights\n",
        "    self.biases=self.biases-self.learning_rate*grad_biases\n",
        "    return grad_input"
      ],
      "execution_count": 0,
      "outputs": []
    },
    {
      "cell_type": "code",
      "metadata": {
        "id": "2KbL3ZJ7jlib",
        "colab_type": "code",
        "colab": {
          "base_uri": "https://localhost:8080/",
          "height": 35
        },
        "outputId": "f943dfa5-62c4-4bd9-a51c-c73474a586bc"
      },
      "source": [
        "l=Dense(128,150)\n",
        "\n",
        "assert -0.05<l.weights.mean()<0.05 and 1e-3<l.weights.std() <1e-1,\\\n",
        "'The initial weights must have zero mean and small variance.'\\\n",
        "'If you know what you are doing, remove this assertion'\n",
        "\n",
        "l=Dense(3,4)\n",
        "x=np.linspace(-1,1,2*3).reshape([2,3])\n",
        "l.weights=np.linspace(-1,1,3*4).reshape([3,4])\n",
        "l.biases=np.linspace(-1,1,4)\n",
        "\n",
        "assert np.allclose(l.forward(x),np.array([[ 0.07272727,  0.41212121,  0.75151515,  1.09090909],\n",
        "                                          [-0.90909091,  0.08484848,  1.07878788,  2.07272727]]))\n",
        "print('well done')"
      ],
      "execution_count": 9,
      "outputs": [
        {
          "output_type": "stream",
          "text": [
            "well done\n"
          ],
          "name": "stdout"
        }
      ]
    },
    {
      "cell_type": "code",
      "metadata": {
        "id": "2jyGcRY2lY4r",
        "colab_type": "code",
        "outputId": "bee462c7-7a98-48c3-d523-df576d5b19c7",
        "colab": {
          "base_uri": "https://localhost:8080/",
          "height": 35
        }
      },
      "source": [
        "def compute_out_given_wb(w,b):\n",
        "  l=Dense(32,64,learning_rate=1)\n",
        "  l.weights=np.array(w)\n",
        "  l.biases=np.array(b)\n",
        "  x=np.linspace(-1,1,10*32).reshape([10,32])\n",
        "  return l.forward(x)\n",
        "\n",
        "def compute_grad_by_params(w,b):\n",
        "  l=Dense(32,64,learning_rate=1)\n",
        "  l.weights=np.array(w)\n",
        "  l.biases=np.array(b)\n",
        "  x=np.linspace(-1,1,10*32).reshape([10,32])\n",
        "  l.backward(x,np.ones([10,64])/10.)\n",
        "  return w-l.weights,b-l.biases\n",
        "\n",
        "w,b=np.random.randn(32,64),np.linspace(-1,1,64)\n",
        "\n",
        "numeric_dw=eval_numerical_gradient(lambda w:\n",
        "                                   compute_out_given_wb(w,b).mean(0).sum(),w)\n",
        "numeric_db=eval_numerical_gradient(lambda b:\n",
        "                                   compute_out_given_wb(w,b).mean(0).sum(),b)\n",
        "grad_w,grad_b=compute_grad_by_params(w,b)\n",
        "assert np.allclose(numeric_dw,grad_w,rtol=1e-3,atol=0),\\\n",
        "'weight gradient does not match numeric weight gradient'\n",
        "assert np.allclose(numeric_db,grad_b,rtol=1e-3,atol=0),\\\n",
        "'bias gradient does not match numeric bias gradient'\n",
        "print('well done')"
      ],
      "execution_count": 10,
      "outputs": [
        {
          "output_type": "stream",
          "text": [
            "well done\n"
          ],
          "name": "stdout"
        }
      ]
    },
    {
      "cell_type": "code",
      "metadata": {
        "id": "OolOLAZuChFJ",
        "colab_type": "code",
        "colab": {}
      },
      "source": [
        "def softmax_crossentropy_with_logits(logits,reference_answers):\n",
        "  logits_for_answers=logits[np.arange(len(logits)),reference_answers]\n",
        "  xentropy=-logits_for_answers+np.log(np.sum(np.exp(logits),axis=-1))\n",
        "  return xentropy\n",
        "\n",
        "def grad_softmax_crossentropy_with_logits(logits,reference_answers):\n",
        "  ones_for_answers=np.zeros_like(logits)\n",
        "  ones_for_answers[np.arange(len(logits)),reference_answers]=1\n",
        "  softmax=np.exp(logits)/np.exp(logits).sum(axis=-1,keepdims=True)\n",
        "  return (-ones_for_answers+softmax)/logits.shape[0]"
      ],
      "execution_count": 0,
      "outputs": []
    },
    {
      "cell_type": "code",
      "metadata": {
        "id": "78RMSNACBDP6",
        "colab_type": "code",
        "colab": {}
      },
      "source": [
        "logits=np.linspace(-1,1,500).reshape([50,10])\n",
        "answers=np.arange(50)%10\n",
        "softmax_crossentropy_with_logits(logits,answers)\n",
        "grads=grad_softmax_crossentropy_with_logits(logits,answers)\n",
        "numeric_grads=eval_numerical_gradient(lambda l:\n",
        "                                      softmax_crossentropy_with_logits(\n",
        "                                          l,answers\n",
        "                                      ).mean(),logits)\n",
        "assert np.allclose(numeric_grads,grads,rtol=1e-3,atol=0),\\\n",
        "\"The reference implementation has just failed. Someone has just changed the rules of math.\""
      ],
      "execution_count": 0,
      "outputs": []
    },
    {
      "cell_type": "code",
      "metadata": {
        "id": "BkmR4zBWaQDa",
        "colab_type": "code",
        "colab": {
          "base_uri": "https://localhost:8080/",
          "height": 35
        },
        "outputId": "b50d5cc6-b4b1-4842-ecf3-59af371e48b4"
      },
      "source": [
        "import keras\n",
        "\n",
        "def load_dataset(flatten=False):\n",
        "  (X_train,y_train),(X_test,y_test)=keras.datasets.mnist.load_data()\n",
        "\n",
        "  X_train=X_train.astype(float)/255.\n",
        "  X_test=X_test.astype(float)/255.\n",
        "\n",
        "  X_train,X_val=X_train[:-10000],X_train[-10000:]\n",
        "  y_train,y_val=y_train[:-10000],y_train[-10000:]\n",
        "\n",
        "  if flatten:\n",
        "    X_train=X_train.reshape([X_train.shape[0],-1])\n",
        "    X_val=X_val.reshape([X_val.shape[0],-1])\n",
        "    X_test=X_test.reshape([X_test.shape[0],-1])\n",
        "\n",
        "  return X_train,y_train,X_val,y_val,X_test,y_test"
      ],
      "execution_count": 13,
      "outputs": [
        {
          "output_type": "stream",
          "text": [
            "Using TensorFlow backend.\n"
          ],
          "name": "stderr"
        }
      ]
    },
    {
      "cell_type": "code",
      "metadata": {
        "id": "gqK73ba_JP8u",
        "colab_type": "code",
        "outputId": "0fea0292-e6b3-4dff-8d65-d59c34ba6627",
        "colab": {
          "base_uri": "https://localhost:8080/",
          "height": 425
        }
      },
      "source": [
        "import matplotlib.pyplot as plt\n",
        "\n",
        "X_train,y_train,X_val,y_val,X_test,y_test=load_dataset(flatten=True)\n",
        "\n",
        "plt.figure(figsize=[6,6])\n",
        "for i in range(4):\n",
        "  plt.subplot(2,2,i+1)\n",
        "  plt.title('Label: %i'%y_train[i])\n",
        "  plt.imshow(X_train[i].reshape([28,28]),cmap='gray')\n"
      ],
      "execution_count": 14,
      "outputs": [
        {
          "output_type": "stream",
          "text": [
            "Downloading data from https://s3.amazonaws.com/img-datasets/mnist.npz\n",
            "11493376/11490434 [==============================] - 0s 0us/step\n"
          ],
          "name": "stdout"
        },
        {
          "output_type": "display_data",
          "data": {
            "image/png": "[encoded data removed]",
            "text/plain": [
              "<Figure size 432x432 with 4 Axes>"
            ]
          },
          "metadata": {
            "tags": [],
            "needs_background": "light"
          }
        }
      ]
    },
    {
      "cell_type": "code",
      "metadata": {
        "id": "V_JFJc-FaEQG",
        "colab_type": "code",
        "colab": {}
      },
      "source": [
        "network=[]\n",
        "network.append(Dense(X_train.shape[1],100))\n",
        "network.append(ReLU())\n",
        "network.append(Dense(100,200))\n",
        "network.append(ReLU())\n",
        "network.append(Dense(200,10))"
      ],
      "execution_count": 0,
      "outputs": []
    },
    {
      "cell_type": "code",
      "metadata": {
        "id": "nvlFrxZxaENa",
        "colab_type": "code",
        "colab": {}
      },
      "source": [
        "def forward(network,X):\n",
        "  activations=[]\n",
        "  input=X\n",
        "  activation=X\n",
        "  for layer in network:\n",
        "    activation=layer.forward(activation)\n",
        "    activations.append(activation)\n",
        "  \n",
        "  assert len(activations)==len(network)\n",
        "  return activations\n",
        "\n",
        "def predict(network,X):\n",
        "  logits=forward(network,X)[-1]\n",
        "  return logits.argmax(axis=-1)\n",
        "\n",
        "def train(network,X,y):\n",
        "  layer_activations=forward(network,X)\n",
        "  layer_inputs=[X]+layer_activations\n",
        "  logits=layer_activations[-1]\n",
        "\n",
        "  loss=softmax_crossentropy_with_logits(logits,y)\n",
        "  loss_grad=grad_softmax_crossentropy_with_logits(logits,y)\n",
        "\n",
        "  grad_output=loss_grad\n",
        "  for layer,input in zip(network[::-1],layer_activations[-2::-1]):\n",
        "    grad_output=layer.backward(input,grad_output)\n",
        "\n",
        "  return np.mean(loss)"
      ],
      "execution_count": 0,
      "outputs": []
    },
    {
      "cell_type": "code",
      "metadata": {
        "id": "tLSA8NeLuPCK",
        "colab_type": "code",
        "colab": {
          "base_uri": "https://localhost:8080/",
          "height": 35
        },
        "outputId": "99c13280-dcf1-4242-ea50-5dbd1cf2b6ce"
      },
      "source": [
        "list(np.arange(10))[:1:-1]"
      ],
      "execution_count": 17,
      "outputs": [
        {
          "output_type": "execute_result",
          "data": {
            "text/plain": [
              "[9, 8, 7, 6, 5, 4, 3, 2]"
            ]
          },
          "metadata": {
            "tags": []
          },
          "execution_count": 17
        }
      ]
    },
    {
      "cell_type": "code",
      "metadata": {
        "id": "mJ07zcSbcN5t",
        "colab_type": "code",
        "colab": {}
      },
      "source": [
        "from tqdm import tqdm\n",
        "\n",
        "def iterate_minibatches(inputs,targets,batchsize,shuffle=False):\n",
        "  assert len(inputs)==len(targets)\n",
        "  if shuffle:\n",
        "    indices=np.random.permutation(len(inputs))\n",
        "  for start_idx in tqdm(range(0,len(inputs)-batchsize+1,batchsize)):\n",
        "    if shuffle:\n",
        "      excerpt=indices[start_idx:start_idx+batchsize]\n",
        "    else:\n",
        "      excerpt=slice(start_idx,start_idx+batchsize)\n",
        "    yield inputs[excerpt],targets[excerpt]"
      ],
      "execution_count": 0,
      "outputs": []
    },
    {
      "cell_type": "code",
      "metadata": {
        "id": "avN0pqZhcN3O",
        "colab_type": "code",
        "colab": {}
      },
      "source": [
        "from IPython.display import clear_output\n"
      ],
      "execution_count": 0,
      "outputs": []
    },
    {
      "cell_type": "code",
      "metadata": {
        "id": "wifVetI2cN0l",
        "colab_type": "code",
        "colab": {
          "base_uri": "https://localhost:8080/",
          "height": 371
        },
        "outputId": "eea44eac-f0fb-41c0-cf1d-07de86c1b939"
      },
      "source": [
        "%%time\n",
        "train_log=[]\n",
        "val_log=[]\n",
        "for epoch in range(50):\n",
        "  for x_batch,y_batch in iterate_minibatches(X_train,y_train,\n",
        "                                             batchsize=32,shuffle=True):\n",
        "    train(network,x_batch,y_batch)\n",
        "  train_log.append(np.mean(predict(network,X_train)==y_train))\n",
        "  val_log.append(np.mean(predict(network,X_val)==y_val))\n",
        "\n",
        "  clear_output()\n",
        "  print('Epoch',epoch)\n",
        "  print('Train accuracy:',train_log[-1])\n",
        "  print('Val accuracy:',val_log[-1])\n",
        "  print(network[0].weights[0,:5])\n",
        "  plt.plot(train_log,label='train accuracy')\n",
        "  plt.plot(val_log,label='val accuracy')\n",
        "  plt.legend(loc='best')\n",
        "  plt.grid()\n",
        "  plt.show()"
      ],
      "execution_count": 20,
      "outputs": [
        {
          "output_type": "stream",
          "text": [
            "Epoch 49\n",
            "Train accuracy: 0.93882\n",
            "Val accuracy: 0.9387\n",
            "[ 0.01020897 -0.00154964  0.01366659 -0.00288179  0.00652704]\n"
          ],
          "name": "stdout"
        },
        {
          "output_type": "display_data",
          "data": {
            "image/png": "[encoded data removed]",
            "text/plain": [
              "<Figure size 432x288 with 1 Axes>"
            ]
          },
          "metadata": {
            "tags": [],
            "needs_background": "light"
          }
        },
        {
          "output_type": "stream",
          "text": [
            "CPU times: user 3min 21s, sys: 1min 36s, total: 4min 58s\n",
            "Wall time: 2min 38s\n"
          ],
          "name": "stdout"
        }
      ]
    },
    {
      "cell_type": "code",
      "metadata": {
        "id": "JfIPC8Cw2FvU",
        "colab_type": "code",
        "colab": {}
      },
      "source": [
        "network=[]\n",
        "network.append(Dense(X_train.shape[1],100,initialization='xavier'))\n",
        "network.append(ReLU())\n",
        "network.append(Dense(100,200,initialization='xavier'))\n",
        "network.append(ReLU())\n",
        "network.append(Dense(200,10,initialization='xavier'))"
      ],
      "execution_count": 0,
      "outputs": []
    },
    {
      "cell_type": "code",
      "metadata": {
        "id": "Qx6KxmCW2FsR",
        "colab_type": "code",
        "colab": {
          "base_uri": "https://localhost:8080/",
          "height": 371
        },
        "outputId": "09e52d6e-9929-4f25-dea7-d39bac6e7e1b"
      },
      "source": [
        "%%time\n",
        "train_log=[]\n",
        "val_log=[]\n",
        "for epoch in range(50):\n",
        "  for x_batch,y_batch in iterate_minibatches(X_train,y_train,\n",
        "                                             batchsize=32,shuffle=True):\n",
        "    train(network,x_batch,y_batch)\n",
        "  train_log.append(np.mean(predict(network,X_train)==y_train))\n",
        "  val_log.append(np.mean(predict(network,X_val)==y_val))\n",
        "\n",
        "  clear_output()\n",
        "  print('Epoch',epoch)\n",
        "  print('Train accuracy:',train_log[-1])\n",
        "  print('Val accuracy:',val_log[-1])\n",
        "  print(network[0].weights[0,:5])\n",
        "  plt.plot(train_log,label='train accuracy')\n",
        "  plt.plot(val_log,label='val accuracy')\n",
        "  plt.legend(loc='best')\n",
        "  plt.grid()\n",
        "  plt.show()"
      ],
      "execution_count": 22,
      "outputs": [
        {
          "output_type": "stream",
          "text": [
            "Epoch 49\n",
            "Train accuracy: 0.98378\n",
            "Val accuracy: 0.9549\n",
            "[ 0.03196288 -0.00981453  0.03877333  0.01315024  0.00674291]\n"
          ],
          "name": "stdout"
        },
        {
          "output_type": "display_data",
          "data": {
            "image/png": "[encoded data removed]",
            "text/plain": [
              "<Figure size 432x288 with 1 Axes>"
            ]
          },
          "metadata": {
            "tags": [],
            "needs_background": "light"
          }
        },
        {
          "output_type": "stream",
          "text": [
            "CPU times: user 3min 24s, sys: 1min 38s, total: 5min 3s\n",
            "Wall time: 2min 41s\n"
          ],
          "name": "stdout"
        }
      ]
    },
    {
      "cell_type": "code",
      "metadata": {
        "id": "NFX81zj12Fnr",
        "colab_type": "code",
        "colab": {}
      },
      "source": [
        ""
      ],
      "execution_count": 0,
      "outputs": []
    },
    {
      "cell_type": "code",
      "metadata": {
        "id": "ojPYyRHMsdmr",
        "colab_type": "code",
        "colab": {}
      },
      "source": [
        "#%load_ext tensorboard"
      ],
      "execution_count": 0,
      "outputs": []
    },
    {
      "cell_type": "code",
      "metadata": {
        "id": "MhvokdORsYoL",
        "colab_type": "code",
        "colab": {}
      },
      "source": [
        "#%tensorboard --logdir tmp/tboard"
      ],
      "execution_count": 0,
      "outputs": []
    }
  ]
}