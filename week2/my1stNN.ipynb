{
  "nbformat": 4,
  "nbformat_minor": 0,
  "metadata": {
    "colab": {
      "name": "coursera_deep_learning_week_2(my1stNN).ipynb",
      "provenance": [],
      "collapsed_sections": []
    },
    "kernelspec": {
      "name": "python3",
      "display_name": "Python 3"
    },
    "accelerator": "GPU"
  },
  "cells": [
    {
      "cell_type": "code",
      "metadata": {
        "id": "L00hZSY9fo-b",
        "colab_type": "code",
        "colab": {}
      },
      "source": [
        "%config IPCompleter.greedy=True"
      ],
      "execution_count": 0,
      "outputs": []
    },
    {
      "cell_type": "code",
      "metadata": {
        "id": "90bTbLBBlCc_",
        "colab_type": "code",
        "outputId": "98159590-2b76-45f9-f0f8-be9221f05ea3",
        "colab": {
          "base_uri": "https://localhost:8080/",
          "height": 88
        }
      },
      "source": [
        "%tensorflow_version 1.x\n",
        "import tensorflow as tf\n",
        "import keras\n",
        "import numpy as np\n",
        "import matplotlib.pyplot as plt\n",
        "from sklearn.metrics import accuracy_score\n",
        "print(tf.__version__)\n",
        "print(keras.__version__)"
      ],
      "execution_count": 2,
      "outputs": [
        {
          "output_type": "stream",
          "text": [
            "TensorFlow 1.x selected.\n"
          ],
          "name": "stdout"
        },
        {
          "output_type": "stream",
          "text": [
            "Using TensorFlow backend.\n"
          ],
          "name": "stderr"
        },
        {
          "output_type": "stream",
          "text": [
            "1.15.2\n",
            "2.3.1\n"
          ],
          "name": "stdout"
        }
      ]
    },
    {
      "cell_type": "code",
      "metadata": {
        "id": "gBYoK-yzBBx6",
        "colab_type": "code",
        "colab": {}
      },
      "source": [
        "from keras import backend as K\n",
        "\n",
        "def reset_tf_session():\n",
        "  curr_session=tf.get_default_session()\n",
        "  if curr_session is not None:\n",
        "    curr_session.close()\n",
        "  K.clear_session()\n",
        "  config=tf.ConfigProto()\n",
        "  config.gpu_options.allow_growth=True\n",
        "  s=tf.InteractiveSession(config=config)\n",
        "  K.set_session(s)\n",
        "  return s"
      ],
      "execution_count": 0,
      "outputs": []
    },
    {
      "cell_type": "code",
      "metadata": {
        "id": "Nn2_wakFdXGS",
        "colab_type": "code",
        "colab": {}
      },
      "source": [
        "def load_dataset(flatten=False):\n",
        "  (X_train,y_train),(X_test,y_test)=keras.datasets.mnist.load_data()\n",
        "  X_train=X_train.astype(float)/255.\n",
        "  X_test=X_test.astype(float)/255.\n",
        "  X_train,X_val=X_train[:-10000],X_train[-10000:]\n",
        "  y_train,y_val=y_train[:-10000],y_train[-10000:]\n",
        "  if flatten:\n",
        "    X_train=X_train.reshape([X_train.shape[0],-1])\n",
        "    X_val=X_val.reshape([X_val.shape[0],-1])\n",
        "    X_test=X_test.reshape([X_test.shape[0],-1])\n",
        "  return X_train,y_train,X_val,y_val,X_test,y_test\n",
        "\n",
        "def load_dataset_from_file(flatten=False):\n",
        "  (X_train,y_train),(X_test,y_test)=load_data()\n",
        "  X_train=X_train.astype(float)/255.\n",
        "  X_test=X_test.astype(float)/255.\n",
        "  X_train,X_val=X_train[:-10000],X_train[-10000:]\n",
        "  y_train,y_val=y_train[:-10000],y_train[-10000:]\n",
        "  if flatten:\n",
        "    X_train=X_train.reshape([X_train[0],-1])\n",
        "    X_val=X_val.reshape([X_val.shape[0],-1])\n",
        "    X_test=X_test.reshape([X_test.shape[0],-1])\n",
        "  return X_train,y_train,X_test,y_test,X_val,y_val\n",
        "\n",
        "def load_data(path='mnist.npz'):\n",
        "  with np.load(path) as f:\n",
        "    x_train,y_train=f['x_train'],f['y_train']\n",
        "    x_test,y_test=f['x_test'],f['y_test']\n",
        "  return (x_train,y_train),(x_test,y_test)"
      ],
      "execution_count": 0,
      "outputs": []
    },
    {
      "cell_type": "code",
      "metadata": {
        "id": "0JNufs6Er43X",
        "colab_type": "code",
        "colab": {
          "base_uri": "https://localhost:8080/",
          "height": 53
        },
        "outputId": "e3b869c1-9072-459b-bb87-ffa222cb881e"
      },
      "source": [
        "X_train,y_train,X_val,y_val,X_test,y_test=load_dataset()"
      ],
      "execution_count": 5,
      "outputs": [
        {
          "output_type": "stream",
          "text": [
            "Downloading data from https://s3.amazonaws.com/img-datasets/mnist.npz\n",
            "11493376/11490434 [==============================] - 1s 0us/step\n"
          ],
          "name": "stdout"
        }
      ]
    },
    {
      "cell_type": "code",
      "metadata": {
        "id": "2jyGcRY2lY4r",
        "colab_type": "code",
        "outputId": "1d91c95c-989e-42ef-da4a-7d223849ff40",
        "colab": {
          "base_uri": "https://localhost:8080/",
          "height": 691
        }
      },
      "source": [
        "print('X_train [shape %s] sample patch:\\n'%\n",
        "      (str(X_train.shape)),X_train[1,15:20,5:10])\n",
        "print('A closeup of a sample patch:')\n",
        "plt.imshow(X_train[1,15:20,5:10],cmap='Greys')\n",
        "plt.show()\n",
        "print('And the whole sample:')\n",
        "plt.imshow(X_train[1],cmap='Greys')\n",
        "plt.show()\n",
        "print('y_train [shape %s] 10 samples:\\n'%\n",
        "      str(y_train.shape),y_train[:10])"
      ],
      "execution_count": 6,
      "outputs": [
        {
          "output_type": "stream",
          "text": [
            "X_train [shape (50000, 28, 28)] sample patch:\n",
            " [[0.         0.29803922 0.96470588 0.98823529 0.43921569]\n",
            " [0.         0.33333333 0.98823529 0.90196078 0.09803922]\n",
            " [0.         0.33333333 0.98823529 0.8745098  0.        ]\n",
            " [0.         0.33333333 0.98823529 0.56862745 0.        ]\n",
            " [0.         0.3372549  0.99215686 0.88235294 0.        ]]\n",
            "A closeup of a sample patch:\n"
          ],
          "name": "stdout"
        },
        {
          "output_type": "display_data",
          "data": {
            "image/png": "[encoded data removed]",
            "text/plain": [
              "<Figure size 432x288 with 1 Axes>"
            ]
          },
          "metadata": {
            "tags": [],
            "needs_background": "light"
          }
        },
        {
          "output_type": "stream",
          "text": [
            "And the whole sample:\n"
          ],
          "name": "stdout"
        },
        {
          "output_type": "display_data",
          "data": {
            "image/png": "[encoded data removed]",
            "text/plain": [
              "<Figure size 432x288 with 1 Axes>"
            ]
          },
          "metadata": {
            "tags": [],
            "needs_background": "light"
          }
        },
        {
          "output_type": "stream",
          "text": [
            "y_train [shape (50000,)] 10 samples:\n",
            " [5 0 4 1 9 2 1 3 1 4]\n"
          ],
          "name": "stdout"
        }
      ]
    },
    {
      "cell_type": "code",
      "metadata": {
        "id": "Dqs_5DMLlYov",
        "colab_type": "code",
        "outputId": "642a8aaf-6495-43bb-af40-c696192c5592",
        "colab": {
          "base_uri": "https://localhost:8080/",
          "height": 53
        }
      },
      "source": [
        "X_train_flat=X_train.reshape((X_train.shape[0],-1))\n",
        "print(X_train_flat.shape)\n",
        "X_val_flat=X_val.reshape((X_val.shape[0],-1))\n",
        "print(X_val_flat.shape)"
      ],
      "execution_count": 7,
      "outputs": [
        {
          "output_type": "stream",
          "text": [
            "(50000, 784)\n",
            "(10000, 784)\n"
          ],
          "name": "stdout"
        }
      ]
    },
    {
      "cell_type": "code",
      "metadata": {
        "id": "78RMSNACBDP6",
        "colab_type": "code",
        "outputId": "ae603ef2-1861-491c-a67a-efc4c0f22fc9",
        "colab": {
          "base_uri": "https://localhost:8080/",
          "height": 88
        }
      },
      "source": [
        "import keras\n",
        "\n",
        "y_train_oh=keras.utils.to_categorical(y_train,10)\n",
        "y_val_oh=keras.utils.to_categorical(y_val,10)\n",
        "print(y_train_oh.shape)\n",
        "print(y_train_oh[:3],y_train[:3])"
      ],
      "execution_count": 8,
      "outputs": [
        {
          "output_type": "stream",
          "text": [
            "(50000, 10)\n",
            "[[0. 0. 0. 0. 0. 1. 0. 0. 0. 0.]\n",
            " [1. 0. 0. 0. 0. 0. 0. 0. 0. 0.]\n",
            " [0. 0. 0. 0. 1. 0. 0. 0. 0. 0.]] [5 0 4]\n"
          ],
          "name": "stdout"
        }
      ]
    },
    {
      "cell_type": "code",
      "metadata": {
        "id": "gqK73ba_JP8u",
        "colab_type": "code",
        "colab": {}
      },
      "source": [
        "s=reset_tf_session()"
      ],
      "execution_count": 0,
      "outputs": []
    },
    {
      "cell_type": "code",
      "metadata": {
        "id": "bdF0p7yABYBD",
        "colab_type": "code",
        "colab": {}
      },
      "source": [
        "W=tf.get_variable('W',shape=(784,10),dtype='float32')\n",
        "b=tf.get_variable('b',shape=(10,),dtype='float32')"
      ],
      "execution_count": 0,
      "outputs": []
    },
    {
      "cell_type": "code",
      "metadata": {
        "id": "pGvGl749BjLt",
        "colab_type": "code",
        "colab": {}
      },
      "source": [
        "input_X=tf.placeholder(tf.float32,shape=(None,784),name='input_X')\n",
        "input_y=tf.placeholder(tf.float32,shape=(None,10),name='input_y')"
      ],
      "execution_count": 0,
      "outputs": []
    },
    {
      "cell_type": "code",
      "metadata": {
        "id": "YDDpxZjUVIfJ",
        "colab_type": "code",
        "outputId": "5a4ce098-c32f-44b4-a7d5-ac83f39e9c49",
        "colab": {
          "base_uri": "https://localhost:8080/",
          "height": 179
        }
      },
      "source": [
        "logits=tf.add(tf.matmul(input_X,W),b)\n",
        "probas=tf.nn.softmax(logits)\n",
        "classes=tf.argmax(probas,axis=-1)\n",
        "loss=tf.reduce_mean(tf.nn.softmax_cross_entropy_with_logits(\n",
        "    labels=input_y,logits=logits))\n",
        "step=tf.train.AdamOptimizer().minimize(loss)"
      ],
      "execution_count": 12,
      "outputs": [
        {
          "output_type": "stream",
          "text": [
            "WARNING:tensorflow:From <ipython-input-12-ba4b57f55c15>:5: softmax_cross_entropy_with_logits (from tensorflow.python.ops.nn_ops) is deprecated and will be removed in a future version.\n",
            "Instructions for updating:\n",
            "\n",
            "Future major versions of TensorFlow will allow gradients to flow\n",
            "into the labels input on backprop by default.\n",
            "\n",
            "See `tf.nn.softmax_cross_entropy_with_logits_v2`.\n",
            "\n"
          ],
          "name": "stdout"
        }
      ]
    },
    {
      "cell_type": "code",
      "metadata": {
        "id": "2xiOE2Js_GIx",
        "colab_type": "code",
        "colab": {}
      },
      "source": [
        "#!/usr/bin/env python\n",
        "# -*- coding: utf-8 -*-\n",
        "from matplotlib import pyplot as plt\n",
        "from IPython.display import clear_output, display_html, HTML\n",
        "import contextlib\n",
        "import time\n",
        "import io\n",
        "import urllib\n",
        "import base64\n",
        "\n",
        "\n",
        "def clear_and_display_figure(fig, sleep=0.01):\n",
        "    img_data = io.BytesIO()\n",
        "    fig.savefig(img_data, format='jpeg')\n",
        "    img_data.seek(0)\n",
        "    uri = 'data:image/jpeg;base64,' + urllib.request.quote(base64.b64encode(img_data.getbuffer()))\n",
        "    img_data.close()\n",
        "    clear_output(wait=True)\n",
        "    display_html(HTML('<img src=\"' + uri + '\">'))\n",
        "    \n",
        "\n",
        "\n",
        "class SimpleMovieWriter(object):\n",
        "    \"\"\"\n",
        "    Usage example:\n",
        "        anim = animation.FuncAnimation(...)\n",
        "        anim.save(None, writer=SimpleMovieWriter(sleep=0.01))\n",
        "    \"\"\"\n",
        "    def __init__(self, sleep=0.1):\n",
        "        self.sleep = sleep\n",
        "\n",
        "    def setup(self, fig):\n",
        "        self.fig = fig\n",
        "\n",
        "    def grab_frame(self, **kwargs):\n",
        "        clear_and_display_figure(self.fig, self.sleep)\n",
        "\n",
        "    @contextlib.contextmanager\n",
        "    def saving(self, fig, *args, **kwargs):\n",
        "        self.setup(fig)\n",
        "        try:\n",
        "            yield self\n",
        "        finally:\n",
        "            pass\n",
        "\n",
        "\n",
        "class SimpleTrainingCurves(object):\n",
        "    def __init__(self, loss_name, metric_name):\n",
        "        self.fig, (self.ax1, self.ax2) = plt.subplots(nrows=1, ncols=2, figsize=(12, 4))\n",
        "        self.ax1.set_title(loss_name)\n",
        "        self.ax2.set_title(metric_name)\n",
        "        self.train_loss_curve, = self.ax1.plot([], [], 'r', label='train', lw=2)\n",
        "        self.valid_loss_curve, = self.ax1.plot([], [], 'g', label='valid', lw=2)\n",
        "        self.train_metric_curve, = self.ax2.plot([], [], 'r', label='train', lw=2)\n",
        "        self.valid_metric_curve, = self.ax2.plot([], [], 'g', label='valid', lw=2)\n",
        "        self.iter = 0\n",
        "        self.y_limits_1 = [None, None]\n",
        "        self.y_limits_2 = [None, None]\n",
        "        plt.close(self.fig)\n",
        "\n",
        "    def _update_y_limits(self, limits, *values):\n",
        "        limits[0] = min(list(values) + ([limits[0]] if limits[0] else []))\n",
        "        limits[1] = max(list(values) + ([limits[1]] if limits[1] else []))\n",
        "\n",
        "    def _update_curve(self, curve, value, label):\n",
        "        x, y = curve.get_data()\n",
        "        curve.set_data(list(x) + [self.iter], list(y) + [value])\n",
        "        curve.set_label(\"{}: {}\".format(label, value))\n",
        "\n",
        "    def _set_y_limits(self, ax, limits):\n",
        "        spread = limits[1] - limits[0]\n",
        "        ax.set_ylim(limits[0] - 0.05*spread, limits[1] + 0.05*spread)\n",
        "\n",
        "    def add(self, train_loss, valid_loss, train_metric, valid_metric):\n",
        "        self._update_curve(self.train_loss_curve, train_loss, \"train\")\n",
        "        self._update_curve(self.valid_loss_curve, valid_loss, \"valid\")\n",
        "        self._update_curve(self.train_metric_curve, train_metric, \"train\")\n",
        "        self._update_curve(self.valid_metric_curve, valid_metric, \"valid\")\n",
        "        self.ax1.set_xlim(0, self.iter)\n",
        "        self.ax2.set_xlim(0, self.iter)\n",
        "        self._update_y_limits(self.y_limits_1, train_loss, valid_loss)\n",
        "        self._update_y_limits(self.y_limits_2, train_metric, valid_metric)\n",
        "        self._set_y_limits(self.ax1, self.y_limits_1)\n",
        "        self._set_y_limits(self.ax2, self.y_limits_2)\n",
        "        clear_and_display_figure(self.fig)\n",
        "        self.ax1.legend()\n",
        "        self.ax2.legend()\n",
        "        self.iter += 1\n",
        "        self.fig.show()\n"
      ],
      "execution_count": 0,
      "outputs": []
    },
    {
      "cell_type": "code",
      "metadata": {
        "id": "Sgs7JbeSAYKg",
        "colab_type": "code",
        "colab": {}
      },
      "source": [
        "%matplotlib inline"
      ],
      "execution_count": 0,
      "outputs": []
    },
    {
      "cell_type": "code",
      "metadata": {
        "id": "Oj_GP1LfSk-P",
        "colab_type": "code",
        "colab": {
          "base_uri": "https://localhost:8080/",
          "height": 282
        },
        "outputId": "8bf7edd6-a8df-4e12-fe4a-25216cfa3f4e"
      },
      "source": [
        "import time\n",
        "from IPython.display import Image,display\n",
        "\n",
        "s.run(tf.global_variables_initializer())\n",
        "BATCH_SIZE=512\n",
        "EPOCHS=10\n",
        "\n",
        "plt.ion()\n",
        "#simpleTrainingCurves=SimpleTrainingCurves('cross_entropy','accuracy')\n",
        "fig,ax=plt.subplots()\n",
        "curve=ax.plot([],[])\n",
        "data=[]\n",
        "for epoch in range(EPOCHS):\n",
        "  batch_losses=[]\n",
        "  for batch_start in range(0,X_train_flat.shape[0],\n",
        "                           BATCH_SIZE):\n",
        "    _,batch_loss=s.run([step,loss],{input_X:\n",
        "                                    X_train_flat[batch_start:\n",
        "                                                 batch_start+BATCH_SIZE],\n",
        "                                    input_y:\n",
        "                                    y_train_oh[batch_start:\n",
        "                                                 batch_start+BATCH_SIZE]}\n",
        "                       )\n",
        "    batch_losses.append(batch_loss)\n",
        "  train_loss=np.mean(batch_losses)\n",
        "  val_loss=s.run(loss,{input_X:X_val_flat,\n",
        "                         input_y:y_val_oh})\n",
        "  train_accuracy=accuracy_score(y_train,s.run(classes,{input_X:\n",
        "                                                         X_train_flat,\n",
        "                                                         input_y:\n",
        "                                                         y_train_oh}))\n",
        "  valid_accuracy=accuracy_score(y_val,s.run(classes,{input_X:\n",
        "                                                       X_val_flat,\n",
        "                                                       input_y:\n",
        "                                                       y_val_oh}))\n",
        "  print(f'epochs:{epoch}) loss = {val_loss}, accuracy = {valid_accuracy}',\n",
        "        end='\\n')\n",
        "  data.append(train_accuracy)\n",
        "  plt.plot(range(epoch+1),data)\n",
        "  plt.show()\n",
        "  # time.sleep(1)\n",
        "  clear_output(wait=True)\n",
        "  \n",
        "  # simpleTrainingCurves.add(train_loss,val_loss,\n",
        "  #                            train_accuracy,valid_accuracy)\n"
      ],
      "execution_count": 106,
      "outputs": [
        {
          "output_type": "stream",
          "text": [
            "epochs:9) loss = 0.2951144874095917, accuracy = 0.9199\n"
          ],
          "name": "stdout"
        },
        {
          "output_type": "display_data",
          "data": {
            "image/png": "[encoded data removed]",
            "text/plain": [
              "<Figure size 432x288 with 1 Axes>"
            ]
          },
          "metadata": {
            "tags": [],
            "needs_background": "light"
          }
        }
      ]
    },
    {
      "cell_type": "code",
      "metadata": {
        "id": "MOJzYtcP6Cqw",
        "colab_type": "code",
        "colab": {
          "base_uri": "https://localhost:8080/",
          "height": 35
        },
        "outputId": "c24af743-070d-4aae-b321-90616dec060f"
      },
      "source": [
        "list(range(1))"
      ],
      "execution_count": 101,
      "outputs": [
        {
          "output_type": "execute_result",
          "data": {
            "text/plain": [
              "[0]"
            ]
          },
          "metadata": {
            "tags": []
          },
          "execution_count": 101
        }
      ]
    },
    {
      "cell_type": "code",
      "metadata": {
        "id": "5swNzhyfSKUn",
        "colab_type": "code",
        "colab": {}
      },
      "source": [
        "test_predictions=model.predict_proba(X_test).argmax(axis=-1)\n",
        "test_answers=y_test.argmax(axis=-1)\n",
        "\n",
        "test_accuracy=np.mean(test_predictions==test_answers)\n",
        "\n",
        "print('\\nTest accuracy: {} %'.format(test_accuracy*100))"
      ],
      "execution_count": 0,
      "outputs": []
    },
    {
      "cell_type": "code",
      "metadata": {
        "id": "ojPYyRHMsdmr",
        "colab_type": "code",
        "colab": {}
      },
      "source": [
        "%load_ext tensorboard"
      ],
      "execution_count": 0,
      "outputs": []
    },
    {
      "cell_type": "code",
      "metadata": {
        "id": "uXjafXILyWYy",
        "colab_type": "code",
        "colab": {}
      },
      "source": [
        "from keras.callbacks import TensorBoard\n",
        "model.fit(X_train,y_train,validation_data=(X_val,y_val),\n",
        "          epochs=10,\n",
        "          callbacks=[TensorBoard('tmp/tboard')])"
      ],
      "execution_count": 0,
      "outputs": []
    },
    {
      "cell_type": "code",
      "metadata": {
        "id": "MhvokdORsYoL",
        "colab_type": "code",
        "colab": {}
      },
      "source": [
        "%tensorboard --logdir tmp/tboard"
      ],
      "execution_count": 0,
      "outputs": []
    }
  ]
}