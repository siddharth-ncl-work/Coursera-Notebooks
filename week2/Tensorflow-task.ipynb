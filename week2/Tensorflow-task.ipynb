{
  "nbformat": 4,
  "nbformat_minor": 0,
  "metadata": {
    "colab": {
      "name": "coursera_deep_learning_week_2(Tensorflow-task).ipynb",
      "provenance": [],
      "collapsed_sections": []
    },
    "kernelspec": {
      "name": "python3",
      "display_name": "Python 3"
    },
    "accelerator": "GPU"
  },
  "cells": [
    {
      "cell_type": "code",
      "metadata": {
        "id": "L00hZSY9fo-b",
        "colab_type": "code",
        "colab": {}
      },
      "source": [
        "%config IPCompleter.greedy=True"
      ],
      "execution_count": 0,
      "outputs": []
    },
    {
      "cell_type": "code",
      "metadata": {
        "id": "90bTbLBBlCc_",
        "colab_type": "code",
        "outputId": "4e9559a9-5875-427b-94a9-8b1f6556cb6f",
        "colab": {
          "base_uri": "https://localhost:8080/",
          "height": 88
        }
      },
      "source": [
        "%tensorflow_version 1.x\n",
        "import tensorflow as tf\n",
        "import keras\n",
        "import numpy as np\n",
        "import matplotlib.pyplot as plt\n",
        "from sklearn.metrics import accuracy_score\n",
        "print(tf.__version__)\n",
        "print(keras.__version__)"
      ],
      "execution_count": 2,
      "outputs": [
        {
          "output_type": "stream",
          "text": [
            "TensorFlow 1.x selected.\n"
          ],
          "name": "stdout"
        },
        {
          "output_type": "stream",
          "text": [
            "Using TensorFlow backend.\n"
          ],
          "name": "stderr"
        },
        {
          "output_type": "stream",
          "text": [
            "1.15.2\n",
            "2.3.1\n"
          ],
          "name": "stdout"
        }
      ]
    },
    {
      "cell_type": "code",
      "metadata": {
        "id": "gBYoK-yzBBx6",
        "colab_type": "code",
        "colab": {}
      },
      "source": [
        "from keras import backend as K\n",
        "\n",
        "def reset_tf_session():\n",
        "  curr_session=tf.get_default_session()\n",
        "  if curr_session is not None:\n",
        "    curr_session.close()\n",
        "  K.clear_session()\n",
        "  config=tf.ConfigProto()\n",
        "  config.gpu_options.allow_growth=True\n",
        "  s=tf.InteractiveSession(config=config)\n",
        "  K.set_session(s)\n",
        "  return s"
      ],
      "execution_count": 0,
      "outputs": []
    },
    {
      "cell_type": "code",
      "metadata": {
        "id": "Nn2_wakFdXGS",
        "colab_type": "code",
        "colab": {}
      },
      "source": [
        "def load_dataset(flatten=False):\n",
        "  (X_train,y_train),(X_test,y_test)=keras.datasets.mnist.load_data()\n",
        "  X_train=X_train.astype(float)/255.\n",
        "  X_test=X_test.astype(float)/255.\n",
        "  X_train,X_val=X_train[:-10000],X_train[-10000:]\n",
        "  y_train,y_val=y_train[:-10000],y_train[-10000:]\n",
        "  if flatten:\n",
        "    X_train=X_train.reshape([X_train.shape[0],-1])\n",
        "    X_val=X_val.reshape([X_val.shape[0],-1])\n",
        "    X_test=X_test.reshape([X_test.shape[0],-1])\n",
        "  return X_train,y_train,X_val,y_val,X_test,y_test\n",
        "\n",
        "def load_dataset_from_file(flatten=False):\n",
        "  (X_train,y_train),(X_test,y_test)=load_data()\n",
        "  X_train=X_train.astype(float)/255.\n",
        "  X_test=X_test.astype(float)/255.\n",
        "  X_train,X_val=X_train[:-10000],X_train[-10000:]\n",
        "  y_train,y_val=y_train[:-10000],y_train[-10000:]\n",
        "  if flatten:\n",
        "    X_train=X_train.reshape([X_train[0],-1])\n",
        "    X_val=X_val.reshape([X_val.shape[0],-1])\n",
        "    X_test=X_test.reshape([X_test.shape[0],-1])\n",
        "  return X_train,y_train,X_test,y_test,X_val,y_val\n",
        "\n",
        "def load_data(path='mnist.npz'):\n",
        "  with np.load(path) as f:\n",
        "    x_train,y_train=f['x_train'],f['y_train']\n",
        "    x_test,y_test=f['x_test'],f['y_test']\n",
        "  return (x_train,y_train),(x_test,y_test)"
      ],
      "execution_count": 0,
      "outputs": []
    },
    {
      "cell_type": "code",
      "metadata": {
        "id": "0JNufs6Er43X",
        "colab_type": "code",
        "colab": {}
      },
      "source": [
        "import numpy as np\n",
        "def sum_sin(N):\n",
        "  return np.sum(np.arange(N)**2)"
      ],
      "execution_count": 0,
      "outputs": []
    },
    {
      "cell_type": "code",
      "metadata": {
        "id": "2jyGcRY2lY4r",
        "colab_type": "code",
        "outputId": "36de209e-2f82-4071-c0ac-a200f14265ce",
        "colab": {
          "base_uri": "https://localhost:8080/",
          "height": 70
        }
      },
      "source": [
        "%%time\n",
        "sum_sin(10**5)"
      ],
      "execution_count": 6,
      "outputs": [
        {
          "output_type": "stream",
          "text": [
            "CPU times: user 0 ns, sys: 1.93 ms, total: 1.93 ms\n",
            "Wall time: 6.72 ms\n"
          ],
          "name": "stdout"
        },
        {
          "output_type": "execute_result",
          "data": {
            "text/plain": [
              "333328333350000"
            ]
          },
          "metadata": {
            "tags": []
          },
          "execution_count": 6
        }
      ]
    },
    {
      "cell_type": "code",
      "metadata": {
        "id": "OolOLAZuChFJ",
        "colab_type": "code",
        "colab": {}
      },
      "source": [
        "s=reset_tf_session()"
      ],
      "execution_count": 0,
      "outputs": []
    },
    {
      "cell_type": "code",
      "metadata": {
        "id": "78RMSNACBDP6",
        "colab_type": "code",
        "colab": {}
      },
      "source": [
        "N=tf.placeholder('int64',name='input_to_your_function')\n",
        "result=tf.reduce_sum(tf.range(N)**2)"
      ],
      "execution_count": 0,
      "outputs": []
    },
    {
      "cell_type": "code",
      "metadata": {
        "id": "gqK73ba_JP8u",
        "colab_type": "code",
        "colab": {
          "base_uri": "https://localhost:8080/",
          "height": 35
        },
        "outputId": "395ea4cb-f8cb-46eb-f993-5fbc66923077"
      },
      "source": [
        "result"
      ],
      "execution_count": 9,
      "outputs": [
        {
          "output_type": "execute_result",
          "data": {
            "text/plain": [
              "<tf.Tensor 'Sum:0' shape=() dtype=int64>"
            ]
          },
          "metadata": {
            "tags": []
          },
          "execution_count": 9
        }
      ]
    },
    {
      "cell_type": "code",
      "metadata": {
        "id": "bdF0p7yABYBD",
        "colab_type": "code",
        "colab": {
          "base_uri": "https://localhost:8080/",
          "height": 70
        },
        "outputId": "2147408d-b0e9-4b3a-fe54-936348d91732"
      },
      "source": [
        "%%time\n",
        "result.eval({N:10**5})"
      ],
      "execution_count": 10,
      "outputs": [
        {
          "output_type": "stream",
          "text": [
            "CPU times: user 383 ms, sys: 226 ms, total: 609 ms\n",
            "Wall time: 6.16 s\n"
          ],
          "name": "stdout"
        },
        {
          "output_type": "execute_result",
          "data": {
            "text/plain": [
              "333328333350000"
            ]
          },
          "metadata": {
            "tags": []
          },
          "execution_count": 10
        }
      ]
    },
    {
      "cell_type": "code",
      "metadata": {
        "id": "pGvGl749BjLt",
        "colab_type": "code",
        "colab": {}
      },
      "source": [
        "writer=tf.summary.FileWriter('tmp/tboard',graph=s.graph)"
      ],
      "execution_count": 0,
      "outputs": []
    },
    {
      "cell_type": "code",
      "metadata": {
        "id": "YDDpxZjUVIfJ",
        "colab_type": "code",
        "colab": {}
      },
      "source": [
        "with tf.name_scope('Placeholders_examples'):\n",
        "  arbitrary_input=tf.placeholder('float32')\n",
        "  input_vector=tf.placeholder('float32',shape=(None,))\n",
        "  fixed_vector=tf.placeholder('int32',shape=(10,))\n",
        "  input_matrix=tf.placeholder('float32',shape=(None,15))\n",
        "  input1=tf.placeholder('float64',shape=(None,100,None))\n",
        "  input2=tf.placeholder('int32',shape=(None,None,3,224,224))\n",
        "  double_the_vector=input_vector**2\n",
        "  elementwise_cosine=tf.cos(input_vector)\n",
        "  vector_squares=input_vector**2-input_vector+1"
      ],
      "execution_count": 0,
      "outputs": []
    },
    {
      "cell_type": "code",
      "metadata": {
        "id": "2xiOE2Js_GIx",
        "colab_type": "code",
        "colab": {}
      },
      "source": [
        "my_vector=tf.placeholder('float32',shape=(None,),name='VECTOR_1')\n",
        "my_vector2=tf.placeholder('float32',shape=(None,))\n",
        "my_transformation=my_vector*my_vector2/(tf.sin(my_vector)+1)"
      ],
      "execution_count": 0,
      "outputs": []
    },
    {
      "cell_type": "code",
      "metadata": {
        "id": "Sgs7JbeSAYKg",
        "colab_type": "code",
        "colab": {
          "base_uri": "https://localhost:8080/",
          "height": 35
        },
        "outputId": "83f92902-a71b-4601-c7e5-ecd9aa29b310"
      },
      "source": [
        "print(my_transformation)"
      ],
      "execution_count": 14,
      "outputs": [
        {
          "output_type": "stream",
          "text": [
            "Tensor(\"truediv:0\", shape=(?,), dtype=float32)\n"
          ],
          "name": "stdout"
        }
      ]
    },
    {
      "cell_type": "code",
      "metadata": {
        "id": "Oj_GP1LfSk-P",
        "colab_type": "code",
        "colab": {
          "base_uri": "https://localhost:8080/",
          "height": 70
        },
        "outputId": "b5592872-51bd-4a29-bb45-45f4b8b61b22"
      },
      "source": [
        "dummy=np.arange(5).astype('float32')\n",
        "print(dummy)\n",
        "my_transformation.eval({my_vector:dummy,my_vector2:dummy[::-1]})"
      ],
      "execution_count": 15,
      "outputs": [
        {
          "output_type": "stream",
          "text": [
            "[0. 1. 2. 3. 4.]\n"
          ],
          "name": "stdout"
        },
        {
          "output_type": "execute_result",
          "data": {
            "text/plain": [
              "array([0.       , 1.6291324, 2.0950115, 2.6289961, 0.       ],\n",
              "      dtype=float32)"
            ]
          },
          "metadata": {
            "tags": []
          },
          "execution_count": 15
        }
      ]
    },
    {
      "cell_type": "code",
      "metadata": {
        "id": "MOJzYtcP6Cqw",
        "colab_type": "code",
        "colab": {}
      },
      "source": [
        "writer.add_graph(my_transformation.graph)\n",
        "writer.flush()"
      ],
      "execution_count": 0,
      "outputs": []
    },
    {
      "cell_type": "code",
      "metadata": {
        "id": "5swNzhyfSKUn",
        "colab_type": "code",
        "colab": {}
      },
      "source": [
        "with tf.name_scope('MSE'):\n",
        "  y_true=tf.placeholder('float32',shape=(None,),name='y_true')\n",
        "  y_predicted=tf.placeholder('float32',shape=(None,),name='y_predicted')\n",
        "  mse=tf.reduce_mean((y_true-y_predicted)**2)\n",
        "\n",
        "def compute_mse(vector1,vector2):\n",
        "  return mse.eval({y_true:vector1,y_predicted:vector2})"
      ],
      "execution_count": 0,
      "outputs": []
    },
    {
      "cell_type": "code",
      "metadata": {
        "id": "3lTAwrbVGpyR",
        "colab_type": "code",
        "colab": {}
      },
      "source": [
        "writer.add_graph(mse.graph)\n",
        "writer.flush()"
      ],
      "execution_count": 0,
      "outputs": []
    },
    {
      "cell_type": "code",
      "metadata": {
        "id": "T0J15lirGp-G",
        "colab_type": "code",
        "colab": {}
      },
      "source": [
        "shared_vector_1=tf.Variable(initial_value=np.ones(5),\n",
        "                            name='example_variable')"
      ],
      "execution_count": 0,
      "outputs": []
    },
    {
      "cell_type": "code",
      "metadata": {
        "id": "rv518GOxIBKy",
        "colab_type": "code",
        "colab": {
          "base_uri": "https://localhost:8080/",
          "height": 35
        },
        "outputId": "0a25e653-784b-45d9-de79-4526e5a5b4f4"
      },
      "source": [
        "shared_vector_1"
      ],
      "execution_count": 20,
      "outputs": [
        {
          "output_type": "execute_result",
          "data": {
            "text/plain": [
              "<tf.Variable 'example_variable:0' shape=(5,) dtype=float64_ref>"
            ]
          },
          "metadata": {
            "tags": []
          },
          "execution_count": 20
        }
      ]
    },
    {
      "cell_type": "code",
      "metadata": {
        "id": "_vNeWR_2Gp6s",
        "colab_type": "code",
        "colab": {
          "base_uri": "https://localhost:8080/",
          "height": 35
        },
        "outputId": "b69080a2-66d4-4084-f39e-84d1ad565948"
      },
      "source": [
        "s.run(tf.global_variables_initializer())\n",
        "print('Initial value',s.run(shared_vector_1))"
      ],
      "execution_count": 21,
      "outputs": [
        {
          "output_type": "stream",
          "text": [
            "Initial value [1. 1. 1. 1. 1.]\n"
          ],
          "name": "stdout"
        }
      ]
    },
    {
      "cell_type": "code",
      "metadata": {
        "id": "4Nk62ZrVGpwC",
        "colab_type": "code",
        "colab": {
          "base_uri": "https://localhost:8080/",
          "height": 35
        },
        "outputId": "38d53188-c7f2-414f-fddf-5690bb4f3868"
      },
      "source": [
        "s.run(shared_vector_1.assign(np.arange(5)))\n",
        "print('New value',s.run(shared_vector_1))"
      ],
      "execution_count": 22,
      "outputs": [
        {
          "output_type": "stream",
          "text": [
            "New value [0. 1. 2. 3. 4.]\n"
          ],
          "name": "stdout"
        }
      ]
    },
    {
      "cell_type": "code",
      "metadata": {
        "id": "oZvIQMQoGpta",
        "colab_type": "code",
        "colab": {
          "base_uri": "https://localhost:8080/",
          "height": 90
        },
        "outputId": "30b84322-2f0a-4250-9d30-3c6ee744af5e"
      },
      "source": [
        "my_scalar=tf.placeholder('float32')\n",
        "scalar_squared=my_scalar**2\n",
        "derivative=tf.gradients(scalar_squared,[my_scalar])"
      ],
      "execution_count": 23,
      "outputs": [
        {
          "output_type": "stream",
          "text": [
            "WARNING:tensorflow:From /tensorflow-1.15.2/python3.6/tensorflow_core/python/ops/math_grad.py:1375: where (from tensorflow.python.ops.array_ops) is deprecated and will be removed in a future version.\n",
            "Instructions for updating:\n",
            "Use tf.where in 2.0, which has the same broadcast rule as np.where\n"
          ],
          "name": "stdout"
        }
      ]
    },
    {
      "cell_type": "code",
      "metadata": {
        "id": "Vpf0ivM7Gpqn",
        "colab_type": "code",
        "colab": {
          "base_uri": "https://localhost:8080/",
          "height": 35
        },
        "outputId": "127af2b5-c764-4536-e9c1-ba66b8faa431"
      },
      "source": [
        "derivative"
      ],
      "execution_count": 24,
      "outputs": [
        {
          "output_type": "execute_result",
          "data": {
            "text/plain": [
              "[<tf.Tensor 'gradients/pow_1_grad/Reshape:0' shape=<unknown> dtype=float32>]"
            ]
          },
          "metadata": {
            "tags": []
          },
          "execution_count": 24
        }
      ]
    },
    {
      "cell_type": "code",
      "metadata": {
        "id": "urUYB-_-Jxgc",
        "colab_type": "code",
        "colab": {
          "base_uri": "https://localhost:8080/",
          "height": 282
        },
        "outputId": "03ac7467-abba-4aaf-9001-4a7b7de54fd0"
      },
      "source": [
        "x=np.linspace(-3,3)\n",
        "x_squared,x_squared_der=s.run([scalar_squared,derivative[0]],\n",
        "                              {my_scalar:x})\n",
        "plt.plot(x,x_squared,label='$x^2$')\n",
        "plt.plot(x,x_squared_der,label=r'$\\frac{dx^2}{dx}$')\n",
        "plt.legend()"
      ],
      "execution_count": 25,
      "outputs": [
        {
          "output_type": "execute_result",
          "data": {
            "text/plain": [
              "<matplotlib.legend.Legend at 0x7facd440d6d8>"
            ]
          },
          "metadata": {
            "tags": []
          },
          "execution_count": 25
        },
        {
          "output_type": "display_data",
          "data": {
            "image/png": "[encoded data removed]",
            "text/plain": [
              "<Figure size 432x288 with 1 Axes>"
            ]
          },
          "metadata": {
            "tags": [],
            "needs_background": "light"
          }
        }
      ]
    },
    {
      "cell_type": "code",
      "metadata": {
        "id": "RCJ95mriJyIf",
        "colab_type": "code",
        "colab": {}
      },
      "source": [
        "my_vector=tf.placeholder('float32',[None])\n",
        "weird_psychotic_function = tf.reduce_mean(\n",
        "    (my_vector+my_scalar)**(1+tf.nn.moments(my_vector,[0])[1]) + \n",
        "    1./ tf.atan(my_scalar))/(my_scalar**2 + 1) + 0.01*tf.sin(\n",
        "    2*my_scalar**1.5)*(tf.reduce_sum(my_vector)* my_scalar**2\n",
        "                      )*tf.exp((my_scalar-4)**2)/(\n",
        "    1+tf.exp((my_scalar-4)**2))*(1.-(tf.exp(-(my_scalar-4)**2)\n",
        "                                    )/(1+tf.exp(-(my_scalar-4)**2)))**2\n",
        "\n",
        "der_by_scalar=tf.gradients(weird_psychotic_function,my_scalar)\n",
        "der_by_vector=tf.gradients(weird_psychotic_function,my_vector)"
      ],
      "execution_count": 0,
      "outputs": []
    },
    {
      "cell_type": "code",
      "metadata": {
        "id": "S1FLHCSDKzG-",
        "colab_type": "code",
        "colab": {
          "base_uri": "https://localhost:8080/",
          "height": 282
        },
        "outputId": "f4782087-d1e7-453d-f3f9-18b298742fbc"
      },
      "source": [
        "scalar_space=np.linspace(1,7,100)\n",
        "y=[s.run(weird_psychotic_function,{my_scalar:x,\n",
        "                                  my_vector:[1,2,3]}) for x in \n",
        "                                  scalar_space]\n",
        "plt.plot(scalar_space,y,label='function')\n",
        "y_der_by_scalar=[s.run(der_by_scalar[0],{my_scalar:x,\n",
        "                                     my_vector:[1,2,3]}) for x in \n",
        "                 scalar_space]\n",
        "plt.plot(scalar_space,y_der_by_scalar,label='derivative')\n",
        "plt.grid()\n",
        "plt.legend()"
      ],
      "execution_count": 27,
      "outputs": [
        {
          "output_type": "execute_result",
          "data": {
            "text/plain": [
              "<matplotlib.legend.Legend at 0x7facd43408d0>"
            ]
          },
          "metadata": {
            "tags": []
          },
          "execution_count": 27
        },
        {
          "output_type": "display_data",
          "data": {
            "image/png": "[encoded data removed]",
            "text/plain": [
              "<Figure size 432x288 with 1 Axes>"
            ]
          },
          "metadata": {
            "tags": [],
            "needs_background": "light"
          }
        }
      ]
    },
    {
      "cell_type": "code",
      "metadata": {
        "id": "Q-jB_3tWJyGQ",
        "colab_type": "code",
        "colab": {}
      },
      "source": [
        "y_guess=tf.Variable(np.zeros(2,dtype='float32'))\n",
        "y_true=tf.range(1,3,dtype='float32')\n",
        "loss=tf.reduce_mean((y_guess-y_true)**2)\n",
        "optimizer=tf.train.MomentumOptimizer(0.01,0.5).minimize(loss,\n",
        "                                                        var_list=y_guess)"
      ],
      "execution_count": 0,
      "outputs": []
    },
    {
      "cell_type": "code",
      "metadata": {
        "id": "WXCY0tArJyDz",
        "colab_type": "code",
        "colab": {
          "base_uri": "https://localhost:8080/",
          "height": 53
        },
        "outputId": "2fa113a8-2fa0-46f8-a959-9675e0405e4f"
      },
      "source": [
        "from sklearn.datasets import load_digits\n",
        "mnist=load_digits(2)\n",
        "X,y=mnist.data,mnist.target\n",
        "print('y [shape - %s]:'%(str(y.shape)),y[:10])\n",
        "print('x [shape - %s]:'%(str(X.shape)))"
      ],
      "execution_count": 29,
      "outputs": [
        {
          "output_type": "stream",
          "text": [
            "y [shape - (360,)]: [0 1 0 1 0 1 0 0 1 1]\n",
            "x [shape - (360, 64)]:\n"
          ],
          "name": "stdout"
        }
      ]
    },
    {
      "cell_type": "code",
      "metadata": {
        "id": "c0OC4F3cJyBI",
        "colab_type": "code",
        "colab": {
          "base_uri": "https://localhost:8080/",
          "height": 371
        },
        "outputId": "fb77a17f-b344-4ce2-f792-fc90c5a5c4d5"
      },
      "source": [
        "print('X:\\n',X[:3,:10])\n",
        "print('y:\\n',y[:10])\n",
        "plt.imshow(X[0].reshape([8,8]));"
      ],
      "execution_count": 30,
      "outputs": [
        {
          "output_type": "stream",
          "text": [
            "X:\n",
            " [[ 0.  0.  5. 13.  9.  1.  0.  0.  0.  0.]\n",
            " [ 0.  0.  0. 12. 13.  5.  0.  0.  0.  0.]\n",
            " [ 0.  0.  1.  9. 15. 11.  0.  0.  0.  0.]]\n",
            "y:\n",
            " [0 1 0 1 0 1 0 0 1 1]\n"
          ],
          "name": "stdout"
        },
        {
          "output_type": "display_data",
          "data": {
            "image/png": "[encoded data removed]",
            "text/plain": [
              "<Figure size 432x288 with 1 Axes>"
            ]
          },
          "metadata": {
            "tags": [],
            "needs_background": "light"
          }
        }
      ]
    },
    {
      "cell_type": "code",
      "metadata": {
        "id": "H-f2IM3UJx-v",
        "colab_type": "code",
        "colab": {}
      },
      "source": [
        "from sklearn.model_selection import train_test_split\n",
        "X_train,X_test,y_train,y_test=train_test_split(X,y,random_state=42)"
      ],
      "execution_count": 0,
      "outputs": []
    },
    {
      "cell_type": "code",
      "metadata": {
        "id": "NhEqrAEDEhio",
        "colab_type": "code",
        "colab": {
          "base_uri": "https://localhost:8080/",
          "height": 35
        },
        "outputId": "12920414-6069-4595-e1c5-b10c231de389"
      },
      "source": [
        "X_train.shape"
      ],
      "execution_count": 101,
      "outputs": [
        {
          "output_type": "execute_result",
          "data": {
            "text/plain": [
              "(270, 64)"
            ]
          },
          "metadata": {
            "tags": []
          },
          "execution_count": 101
        }
      ]
    },
    {
      "cell_type": "code",
      "metadata": {
        "id": "_UhzF40dJx7p",
        "colab_type": "code",
        "colab": {}
      },
      "source": [
        "weights=tf.Variable(initial_value=np.random.random((X.shape[1],1)),\n",
        "                    dtype='float32',name='weights')\n",
        "b=tf.Variable(initial_value=np.random.random(1)[0],\n",
        "              dtype='float32',name='b')"
      ],
      "execution_count": 0,
      "outputs": []
    },
    {
      "cell_type": "code",
      "metadata": {
        "id": "pafnzAqkJx4t",
        "colab_type": "code",
        "colab": {}
      },
      "source": [
        "input_X=tf.placeholder('float32',shape=(None,64))\n",
        "input_y=tf.placeholder('float32',shape=(None,))"
      ],
      "execution_count": 0,
      "outputs": []
    },
    {
      "cell_type": "code",
      "metadata": {
        "id": "miFV2put0Knn",
        "colab_type": "code",
        "colab": {}
      },
      "source": [
        "logits=tf.squeeze(tf.matmul(input_X,weights)+b)\n",
        "predicted_y=tf.sigmoid(logits)\n",
        "loss=tf.reduce_mean(tf.nn.sigmoid_cross_entropy_with_logits(labels=input_y,\n",
        "                                                    logits=logits))\n",
        "optimizer=tf.train.AdamOptimizer(0.1).minimize(loss)"
      ],
      "execution_count": 0,
      "outputs": []
    },
    {
      "cell_type": "code",
      "metadata": {
        "id": "UO5e1RdQ11mb",
        "colab_type": "code",
        "colab": {
          "base_uri": "https://localhost:8080/",
          "height": 35
        },
        "outputId": "b150b7c9-e48d-4a3f-b604-62bb3f5a1f55"
      },
      "source": [
        "validation_weights=1e-3*np.fromiter(map(lambda x:\n",
        "s.run(weird_psychotic_function,{my_scalar:x,my_vector:[1,0.1,2]}),\n",
        "      0.15*np.arange(1,X.shape[1]+1)),\n",
        "      count=X.shape[1],dtype=np.float32)[:,np.newaxis]\n",
        "prediction_validation=s.run(predicted_y,{input_X:X,\n",
        "                                         weights:validation_weights,\n",
        "                                         b:1e-1})\n",
        "validation_true_values=np.loadtxt('/content/validation_predictons.txt')\n",
        "assert prediction_validation.shape==(X.shape[0],),\\\n",
        "'Prediction must be a 1D array with length equal tothe number of \\\n",
        "examples in input_X'\n",
        "loss_validation=s.run(loss,{input_X:X[:100],\n",
        "                            input_y:y[-100:],\n",
        "                            weights:validation_weights+1.21e-3,\n",
        "                            b:-1e-1})\n",
        "print(loss_validation)\n",
        "assert np.allclose(loss_validation,0.728689)"
      ],
      "execution_count": 132,
      "outputs": [
        {
          "output_type": "stream",
          "text": [
            "0.72868866\n"
          ],
          "name": "stdout"
        }
      ]
    },
    {
      "cell_type": "code",
      "metadata": {
        "id": "n0vghoyT0LG7",
        "colab_type": "code",
        "colab": {
          "base_uri": "https://localhost:8080/",
          "height": 1000
        },
        "outputId": "9a346c1c-e49b-4446-8d77-d9f371019ae6"
      },
      "source": [
        "from IPython import display\n",
        "import time\n",
        "\n",
        "from sklearn.metrics import roc_auc_score\n",
        "s.run(tf.global_variables_initializer())\n",
        "for i in range(20):\n",
        "  s.run(optimizer,{input_X:X_train,input_y:y_train})\n",
        "  loss_i=s.run(loss,{input_X:X_train,input_y:y_train})\n",
        "  print('loss at iter %i:%.4f'%(i,loss_i))\n",
        "  print('train acu:',roc_auc_score(y_train,\n",
        "                                   s.run(predicted_y,\n",
        "                                         {input_X:X_train})))\n",
        "  print('test auc:',roc_auc_score(y_test,s.run(predicted_y,\n",
        "                                              {input_X:X_test})))\n",
        "  #display.clear_output(wait=True)  \n",
        "  #time.sleep(0.5)"
      ],
      "execution_count": 135,
      "outputs": [
        {
          "output_type": "stream",
          "text": [
            "loss at iter 0:59.8168\n",
            "train acu: 0.5\n",
            "test auc: 0.5\n",
            "loss at iter 1:44.2250\n",
            "train acu: 0.5\n",
            "test auc: 0.5\n",
            "loss at iter 2:28.6333\n",
            "train acu: 0.4963768115942029\n",
            "test auc: 0.5\n",
            "loss at iter 3:13.0735\n",
            "train acu: 0.0659310496267018\n",
            "test auc: 0.06101778656126482\n",
            "loss at iter 4:9.0931\n",
            "train acu: 0.04199604743083003\n",
            "test auc: 0.02495059288537549\n",
            "loss at iter 5:13.8005\n",
            "train acu: 0.4914086517347387\n",
            "test auc: 0.48937747035573126\n",
            "loss at iter 6:14.4542\n",
            "train acu: 0.5362318840579711\n",
            "test auc: 0.5340909090909091\n",
            "loss at iter 7:12.1546\n",
            "train acu: 0.605072463768116\n",
            "test auc: 0.5909090909090909\n",
            "loss at iter 8:7.7882\n",
            "train acu: 0.8043478260869565\n",
            "test auc: 0.8181818181818181\n",
            "loss at iter 9:2.9091\n",
            "train acu: 0.9528985507246377\n",
            "test auc: 0.9545454545454546\n",
            "loss at iter 10:0.5315\n",
            "train acu: 0.9963768115942029\n",
            "test auc: 1.0\n",
            "loss at iter 11:0.0810\n",
            "train acu: 0.9999451032059727\n",
            "test auc: 1.0\n",
            "loss at iter 12:0.0105\n",
            "train acu: 1.0\n",
            "test auc: 1.0\n",
            "loss at iter 13:0.0292\n",
            "train acu: 1.0\n",
            "test auc: 1.0\n",
            "loss at iter 14:0.0984\n",
            "train acu: 1.0\n",
            "test auc: 1.0\n",
            "loss at iter 15:0.1691\n",
            "train acu: 1.0\n",
            "test auc: 1.0\n",
            "loss at iter 16:0.2599\n",
            "train acu: 0.9886363636363635\n",
            "test auc: 1.0\n",
            "loss at iter 17:0.3585\n",
            "train acu: 0.9886363636363636\n",
            "test auc: 1.0\n",
            "loss at iter 18:0.4486\n",
            "train acu: 0.9886363636363638\n",
            "test auc: 1.0\n",
            "loss at iter 19:0.5243\n",
            "train acu: 0.9886363636363638\n",
            "test auc: 1.0\n"
          ],
          "name": "stdout"
        }
      ]
    },
    {
      "cell_type": "code",
      "metadata": {
        "id": "CoCnXx1b0LEE",
        "colab_type": "code",
        "colab": {}
      },
      "source": [
        ""
      ],
      "execution_count": 0,
      "outputs": []
    },
    {
      "cell_type": "code",
      "metadata": {
        "id": "2XoUoDY60Kkj",
        "colab_type": "code",
        "colab": {}
      },
      "source": [
        ""
      ],
      "execution_count": 0,
      "outputs": []
    },
    {
      "cell_type": "code",
      "metadata": {
        "id": "NAxu3Nj00J3V",
        "colab_type": "code",
        "colab": {}
      },
      "source": [
        ""
      ],
      "execution_count": 0,
      "outputs": []
    },
    {
      "cell_type": "code",
      "metadata": {
        "id": "ojPYyRHMsdmr",
        "colab_type": "code",
        "colab": {}
      },
      "source": [
        "%load_ext tensorboard"
      ],
      "execution_count": 0,
      "outputs": []
    },
    {
      "cell_type": "code",
      "metadata": {
        "id": "MhvokdORsYoL",
        "colab_type": "code",
        "colab": {}
      },
      "source": [
        "%tensorboard --logdir tmp/tboard"
      ],
      "execution_count": 0,
      "outputs": []
    }
  ]
}