{
 "cells": [
  {
   "cell_type": "code",
   "execution_count": 1,
   "metadata": {},
   "outputs": [],
   "source": [
    "%config IPCompleter.greedy=True"
   ]
  },
  {
   "cell_type": "code",
   "execution_count": 2,
   "metadata": {},
   "outputs": [
    {
     "name": "stdout",
     "output_type": "stream",
     "text": [
      "1.15.0\n"
     ]
    }
   ],
   "source": [
    "import tensorflow as tf\n",
    "import numpy as np\n",
    "print(tf.__version__)"
   ]
  },
  {
   "cell_type": "code",
   "execution_count": 3,
   "metadata": {},
   "outputs": [],
   "source": [
    "tf.reset_default_graph()\n",
    "a=tf.placeholder(np.float32,(2,2))\n",
    "b=tf.Variable(tf.ones((2,2)))\n",
    "c=a@b"
   ]
  },
  {
   "cell_type": "code",
   "execution_count": 4,
   "metadata": {},
   "outputs": [
    {
     "name": "stdout",
     "output_type": "stream",
     "text": [
      "Tensor(\"matmul:0\", shape=(2, 2), dtype=float32)\n"
     ]
    }
   ],
   "source": [
    "print(c)"
   ]
  },
  {
   "cell_type": "code",
   "execution_count": 5,
   "metadata": {},
   "outputs": [],
   "source": [
    "s=tf.InteractiveSession()"
   ]
  },
  {
   "cell_type": "code",
   "execution_count": 6,
   "metadata": {},
   "outputs": [
    {
     "data": {
      "text/plain": [
       "array([[2., 2.],\n",
       "       [2., 2.]], dtype=float32)"
      ]
     },
     "execution_count": 6,
     "metadata": {},
     "output_type": "execute_result"
    }
   ],
   "source": [
    "s.run(tf.global_variables_initializer())\n",
    "s.run(c,feed_dict={a:np.ones((2,2))})"
   ]
  },
  {
   "cell_type": "code",
   "execution_count": 7,
   "metadata": {},
   "outputs": [],
   "source": [
    "s.close()"
   ]
  },
  {
   "cell_type": "code",
   "execution_count": 40,
   "metadata": {},
   "outputs": [],
   "source": [
    "tf.reset_default_graph()\n",
    "x=tf.get_variable('x',shape=(),dtype=tf.float32,trainable=True)\n",
    "f=x**2"
   ]
  },
  {
   "cell_type": "code",
   "execution_count": 41,
   "metadata": {},
   "outputs": [],
   "source": [
    "optimizer=tf.train.GradientDescentOptimizer(0.1)\n",
    "step=optimizer.minimize(f,var_list=[x])"
   ]
  },
  {
   "cell_type": "code",
   "execution_count": 42,
   "metadata": {},
   "outputs": [
    {
     "data": {
      "text/plain": [
       "[<tf.Variable 'x:0' shape=() dtype=float32_ref>]"
      ]
     },
     "execution_count": 42,
     "metadata": {},
     "output_type": "execute_result"
    }
   ],
   "source": [
    "tf.trainable_variables()"
   ]
  },
  {
   "cell_type": "code",
   "execution_count": 45,
   "metadata": {
    "scrolled": false
   },
   "outputs": [
    {
     "name": "stdout",
     "output_type": "stream",
     "text": [
      "None 0.43145895 0.29087004\n",
      "None 0.34516716 0.18615682\n",
      "None 0.27613372 0.11914037\n",
      "None 0.22090697 0.07624983\n",
      "None 0.17672558 0.04879989\n",
      "None 0.14138046 0.03123193\n",
      "None 0.113104366 0.019988434\n",
      "None 0.090483494 0.0127925975\n",
      "None 0.072386794 0.008187262\n",
      "None 0.057909437 0.005239848\n",
      "None 0.04632755 0.0033535028\n",
      "None 0.03706204 0.002146242\n",
      "None 0.029649634 0.0013735949\n",
      "None 0.023719708 0.0008791008\n",
      "None 0.018975766 0.00056262454\n",
      "None 0.015180613 0.00036007972\n",
      "None 0.01214449 0.00023045101\n",
      "None 0.0097155925 0.00014748864\n",
      "None 0.007772474 9.439274e-05\n",
      "None 0.0062179794 6.0411352e-05\n",
      "None 0.0049743834 3.8663267e-05\n",
      "None 0.003979507 2.474449e-05\n",
      "None 0.0031836056 1.5836475e-05\n",
      "None 0.0025468846 1.0135344e-05\n",
      "None 0.0020375077 6.4866213e-06\n",
      "None 0.0016300061 4.1514377e-06\n",
      "None 0.0013040049 2.65692e-06\n",
      "None 0.001043204 1.7004288e-06\n",
      "None 0.00083456316 1.0882745e-06\n",
      "None 0.00066765054 6.964957e-07\n",
      "None 0.0005341204 4.4575725e-07\n",
      "None 0.00042729633 2.852846e-07\n",
      "None 0.00034183706 1.8258216e-07\n",
      "None 0.00027346966 1.16852576e-07\n",
      "None 0.00021877573 7.478565e-08\n",
      "None 0.00017502058 4.7862823e-08\n",
      "None 0.00014001646 3.0632204e-08\n",
      "None 0.00011201317 1.960461e-08\n",
      "None 8.9610534e-05 1.254695e-08\n",
      "None 7.1688424e-05 8.030048e-09\n",
      "None 5.735074e-05 5.1392304e-09\n",
      "None 4.588059e-05 3.2891072e-09\n",
      "None 3.6704474e-05 2.1050286e-09\n",
      "None 2.9363579e-05 1.3472184e-09\n",
      "None 2.3490862e-05 8.6221974e-10\n",
      "None 1.8792689e-05 5.518206e-10\n",
      "None 1.5034151e-05 3.5316516e-10\n",
      "None 1.2027321e-05 2.260257e-10\n",
      "None 9.621856e-06 1.4465644e-10\n",
      "None 7.697485e-06 9.2580124e-11\n",
      "None 6.1579876e-06 5.925127e-11\n",
      "None 4.92639e-06 3.7920812e-11\n",
      "None 3.941112e-06 2.4269317e-11\n",
      "None 3.1528896e-06 1.5532364e-11\n",
      "None 2.5223117e-06 9.940712e-12\n",
      "None 2.0178493e-06 6.3620563e-12\n",
      "None 1.6142794e-06 4.0717156e-12\n",
      "None 1.2914236e-06 2.6058981e-12\n",
      "None 1.0331389e-06 1.6677749e-12\n",
      "None 8.2651115e-07 1.067376e-12\n",
      "None 6.612089e-07 6.831207e-13\n",
      "None 5.289671e-07 4.371972e-13\n",
      "None 4.231737e-07 2.798062e-13\n",
      "None 3.3853897e-07 1.7907598e-13\n",
      "None 2.7083118e-07 1.1460863e-13\n",
      "None 2.1666494e-07 7.334953e-14\n",
      "None 1.7333196e-07 4.6943698e-14\n",
      "None 1.3866557e-07 3.0043967e-14\n",
      "None 1.10932454e-07 1.9228141e-14\n",
      "None 8.874596e-08 1.230601e-14\n",
      "None 7.099677e-08 7.875846e-15\n",
      "None 5.6797415e-08 5.0405415e-15\n",
      "None 4.5437933e-08 3.2259464e-15\n",
      "None 3.6350347e-08 2.0646058e-15\n",
      "None 2.9080278e-08 1.3213477e-15\n",
      "None 2.3264223e-08 8.4566255e-16\n",
      "None 1.8611377e-08 5.4122404e-16\n",
      "None 1.48891015e-08 3.4638338e-16\n",
      "None 1.1911281e-08 2.2168534e-16\n",
      "None 9.529025e-09 1.4187861e-16\n",
      "None 7.623219e-09 9.080231e-17\n",
      "None 6.0985754e-09 5.8113475e-17\n",
      "None 4.8788604e-09 3.719262e-17\n",
      "None 3.9030885e-09 2.3803279e-17\n",
      "None 3.1224707e-09 1.52341e-17\n",
      "None 2.4979765e-09 9.749823e-18\n",
      "None 1.9983812e-09 6.2398866e-18\n",
      "None 1.598705e-09 3.9935275e-18\n",
      "None 1.2789639e-09 2.5558576e-18\n",
      "None 1.0231711e-09 1.6357487e-18\n",
      "None 8.185369e-10 1.0468791e-18\n",
      "None 6.548295e-10 6.7000265e-19\n",
      "None 5.238636e-10 4.2880172e-19\n",
      "None 4.190909e-10 2.744331e-19\n",
      "None 3.3527273e-10 1.7563719e-19\n",
      "None 2.6821817e-10 1.124078e-19\n",
      "None 2.1457454e-10 7.1940984e-20\n",
      "None 1.7165963e-10 4.6042233e-20\n",
      "None 1.373277e-10 2.946703e-20\n",
      "None 1.0986216e-10 1.8858899e-20\n"
     ]
    }
   ],
   "source": [
    "with tf.Session() as s:\n",
    "    s.run(tf.global_variables_initializer())\n",
    "    for i in range(100):\n",
    "        some_value,curr_x,curr_f=s.run([step,x,f])\n",
    "        print(some_value,curr_x,curr_f)"
   ]
  },
  {
   "cell_type": "code",
   "execution_count": 17,
   "metadata": {},
   "outputs": [
    {
     "name": "stdout",
     "output_type": "stream",
     "text": [
      "WARNING:tensorflow:From <ipython-input-17-53bffc062783>:4: Print (from tensorflow.python.ops.logging_ops) is deprecated and will be removed after 2018-08-20.\n",
      "Instructions for updating:\n",
      "Use tf.print instead of tf.Print. Note that tf.print returns a no-output operator that directly prints the output. Outside of defuns or eager mode, this operator will not be executed unless it is directly specified in session.run or used as a control dependency for other operators. This is only a concern in graph mode. Below is an example of how to ensure tf.print executes in graph mode:\n",
      "\n"
     ]
    }
   ],
   "source": [
    "tf.reset_default_graph()\n",
    "x=tf.get_variable('x',shape=(),dtype=tf.float32)\n",
    "f=x**2\n",
    "f=tf.Print(f,[x,f],'x,f:')"
   ]
  },
  {
   "cell_type": "code",
   "execution_count": 18,
   "metadata": {},
   "outputs": [],
   "source": [
    "optimizer=tf.train.GradientDescentOptimizer(0.1)\n",
    "step=optimizer.minimize(f)"
   ]
  },
  {
   "cell_type": "code",
   "execution_count": 24,
   "metadata": {},
   "outputs": [],
   "source": [
    "with tf.Session() as s:\n",
    "    s.run(tf.global_variables_initializer())\n",
    "    for i in range(100):\n",
    "        s.run([step,f])"
   ]
  },
  {
   "cell_type": "code",
   "execution_count": 25,
   "metadata": {},
   "outputs": [],
   "source": [
    "tf.reset_default_graph()\n",
    "x=tf.get_variable('x',shape=(),dtype=tf.float32)\n",
    "f=x**2"
   ]
  },
  {
   "cell_type": "code",
   "execution_count": 26,
   "metadata": {},
   "outputs": [],
   "source": [
    "optimizer=tf.train.GradientDescentOptimizer(0.1)\n",
    "step=optimizer.minimize(f)"
   ]
  },
  {
   "cell_type": "code",
   "execution_count": 28,
   "metadata": {},
   "outputs": [],
   "source": [
    "tf.summary.scalar('curr_x',x)\n",
    "tf.summary.scalar('curr_f',f)\n",
    "summaries=tf.summary.merge_all()"
   ]
  },
  {
   "cell_type": "code",
   "execution_count": 30,
   "metadata": {},
   "outputs": [],
   "source": [
    "s=tf.InteractiveSession()\n",
    "summary_writer=tf.summary.FileWriter('logs/1',s.graph)\n",
    "s.run(tf.global_variables_initializer())\n",
    "for i in range(10):\n",
    "    _,curr_summaries=s.run([step,summaries])\n",
    "    summary_writer.add_summary(curr_summaries,i)\n",
    "    summary_writer.flush()"
   ]
  },
  {
   "cell_type": "code",
   "execution_count": 47,
   "metadata": {},
   "outputs": [],
   "source": [
    "N=1000\n",
    "D=3\n",
    "x=np.random.random((N,D))\n",
    "w=np.random.random((D,1))\n",
    "y=x@w+np.random.randn(N,1)*0.20"
   ]
  },
  {
   "cell_type": "code",
   "execution_count": 48,
   "metadata": {},
   "outputs": [
    {
     "name": "stdout",
     "output_type": "stream",
     "text": [
      "Help on built-in function random:\n",
      "\n",
      "random(...) method of numpy.random.mtrand.RandomState instance\n",
      "    random(size=None)\n",
      "    \n",
      "    Return random floats in the half-open interval [0.0, 1.0). Alias for\n",
      "    `random_sample` to ease forward-porting to the new random API.\n",
      "\n"
     ]
    }
   ],
   "source": [
    "help(np.random.random)"
   ]
  },
  {
   "cell_type": "code",
   "execution_count": 49,
   "metadata": {},
   "outputs": [
    {
     "data": {
      "text/plain": [
       "array([[0.11519834],\n",
       "       [0.69279089],\n",
       "       [0.35068033]])"
      ]
     },
     "execution_count": 49,
     "metadata": {},
     "output_type": "execute_result"
    }
   ],
   "source": [
    "w"
   ]
  },
  {
   "cell_type": "code",
   "execution_count": 50,
   "metadata": {},
   "outputs": [
    {
     "name": "stdout",
     "output_type": "stream",
     "text": [
      "(?, 1) (?, 1) ()\n"
     ]
    }
   ],
   "source": [
    "tf.reset_default_graph()\n",
    "\n",
    "features=tf.placeholder(tf.float32,shape=(None,D))\n",
    "target=tf.placeholder(tf.float32, shape=(None,1))\n",
    "\n",
    "weights=tf.get_variable('weights',shape=(D,1),dtype=tf.float32)\n",
    "predictions=features@weights\n",
    "\n",
    "loss=tf.reduce_mean((target-predictions)**2)\n",
    "\n",
    "print(target.shape,predictions.shape,loss.shape)"
   ]
  },
  {
   "cell_type": "code",
   "execution_count": 51,
   "metadata": {},
   "outputs": [],
   "source": [
    "optimizer=tf.train.GradientDescentOptimizer(0.1)\n",
    "step=optimizer.minimize(loss)"
   ]
  },
  {
   "cell_type": "code",
   "execution_count": 52,
   "metadata": {},
   "outputs": [
    {
     "name": "stdout",
     "output_type": "stream",
     "text": [
      "2.3321242\n",
      "0.041267846\n",
      "0.038315736\n",
      "0.03780902\n",
      "0.037721246\n",
      "0.037705895\n"
     ]
    }
   ],
   "source": [
    "with tf.Session() as s:\n",
    "    s.run(tf.global_variables_initializer())\n",
    "    for i in range(300):\n",
    "        _,curr_loss,curr_weights=s.run([step,loss,weights],feed_dict={features:x,target:y})\n",
    "        if i%50==0:\n",
    "            print(curr_loss)"
   ]
  },
  {
   "cell_type": "code",
   "execution_count": 53,
   "metadata": {},
   "outputs": [
    {
     "data": {
      "text/plain": [
       "array([[0.11552354, 0.69533634, 0.3560039 ]], dtype=float32)"
      ]
     },
     "execution_count": 53,
     "metadata": {},
     "output_type": "execute_result"
    }
   ],
   "source": [
    "curr_weights.T"
   ]
  },
  {
   "cell_type": "code",
   "execution_count": null,
   "metadata": {},
   "outputs": [],
   "source": []
  }
 ],
 "metadata": {
  "kernelspec": {
   "display_name": "Python 3",
   "language": "python",
   "name": "python3"
  },
  "language_info": {
   "codemirror_mode": {
    "name": "ipython",
    "version": 3
   },
   "file_extension": ".py",
   "mimetype": "text/x-python",
   "name": "python",
   "nbconvert_exporter": "python",
   "pygments_lexer": "ipython3",
   "version": "3.7.6"
  }
 },
 "nbformat": 4,
 "nbformat_minor": 2
}
